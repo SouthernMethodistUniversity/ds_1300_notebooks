{
 "cells": [
  {
   "cell_type": "markdown",
   "id": "001f651f",
   "metadata": {},
   "source": [
    "# Unsupervised Learning Example - Folktale Clustering"
   ]
  },
  {
   "cell_type": "code",
   "execution_count": null,
   "id": "8b3a7723",
   "metadata": {},
   "outputs": [],
   "source": [
    "import pandas as pd\n",
    "import matplotlib.pyplot as plt\n",
    "import matplotlib\n",
    "from sklearn.feature_extraction.text import TfidfVectorizer\n",
    "from sklearn.cluster import KMeans\n",
    "from sklearn.decomposition import PCA\n",
    "from sklearn.manifold import TSNE\n",
    "import numpy as np\n",
    "\n",
    "import warnings\n",
    "warnings.simplefilter(action='ignore', category=FutureWarning)"
   ]
  },
  {
   "cell_type": "markdown",
   "id": "a002e900",
   "metadata": {},
   "source": [
    "## Load and Clean the Data"
   ]
  },
  {
   "cell_type": "markdown",
   "id": "6f57b950",
   "metadata": {},
   "source": [
    "This is the folktales dataset from the Miltilingual Folktales Database"
   ]
  },
  {
   "cell_type": "code",
   "execution_count": null,
   "id": "8e1b2e28",
   "metadata": {},
   "outputs": [],
   "source": [
    "example_text_file = '../data/folktales.csv'\n",
    "\n",
    "data = pd.read_csv(example_text_file)\n",
    "\n",
    "data[\"Index\"]=data.index"
   ]
  },
  {
   "cell_type": "markdown",
   "id": "de5e1ff7",
   "metadata": {},
   "source": [
    "Here we have only decided to do a limited cleaning on the data to assist in our analysis."
   ]
  },
  {
   "cell_type": "code",
   "execution_count": null,
   "id": "7d12b49c",
   "metadata": {},
   "outputs": [],
   "source": [
    "# Send to Lowercase\n",
    "data['Story'] = data['Story'].apply(lambda x: \" \".join(x.lower() for x in x.split()))"
   ]
  },
  {
   "cell_type": "code",
   "execution_count": null,
   "id": "d4dcb8f8",
   "metadata": {},
   "outputs": [],
   "source": [
    "# Remove Punctuation\n",
    "data['Story'] = data['Story'].str.replace('[^\\w\\s]','')"
   ]
  },
  {
   "cell_type": "code",
   "execution_count": null,
   "id": "8e304d6a",
   "metadata": {},
   "outputs": [],
   "source": [
    "data['Story'].head()"
   ]
  },
  {
   "cell_type": "markdown",
   "id": "c03dbd36",
   "metadata": {},
   "source": [
    "## Using TF-IDF with K-Means Clustering"
   ]
  },
  {
   "cell_type": "markdown",
   "id": "6e6dd05f",
   "metadata": {},
   "source": [
    "This takes the TF-IDF matrix and applies a [k-means clustering algorithm](https://en.wikipedia.org/wiki/K-means_clustering). This groups the texts into clusters of similar terms from the TF-IDF matrix. This algorithm randomly seeds X \"means\", the values are then clustered into the nearest mean. The centroid of the values in each cluster then becomes the new mean and the process repeats until a convergence is reached."
   ]
  },
  {
   "cell_type": "code",
   "execution_count": null,
   "id": "d5f5cb56",
   "metadata": {},
   "outputs": [],
   "source": [
    "groups = 30\n",
    "\n",
    "num_clusters = groups\n",
    "num_seeds = groups\n",
    "max_iterations = 300"
   ]
  },
  {
   "cell_type": "code",
   "execution_count": null,
   "id": "05bfef09",
   "metadata": {},
   "outputs": [],
   "source": [
    "pca_num_components = 2\n",
    "tsne_num_components = 2"
   ]
  },
  {
   "cell_type": "code",
   "execution_count": null,
   "id": "bf922969",
   "metadata": {},
   "outputs": [],
   "source": [
    "cmap = matplotlib.cm.get_cmap(\"nipy_spectral\", groups) # Builds a discrete color mapping using a built in matplotlib color map\n",
    "\n",
    "c = {}\n",
    "for i in range(cmap.N): # Converts our discrete map into Hex Values\n",
    "    rgba = cmap(i)\n",
    "    c.update({i:matplotlib.colors.rgb2hex(rgba)})\n",
    "\n",
    "labels_color_map=c"
   ]
  },
  {
   "cell_type": "code",
   "execution_count": null,
   "id": "fdb86cc9",
   "metadata": {},
   "outputs": [],
   "source": [
    "# calculate tf-idf of texts\n",
    "tfidf = TfidfVectorizer(max_features=1000, lowercase=True, analyzer='word',stop_words= 'english',ngram_range=(1,1))\n",
    "tf_idf_matrix = tfidf.fit_transform(data['Story'])\n",
    "\n",
    "# create k-means model with custom config\n",
    "clustering_model = KMeans(\n",
    "    n_clusters=num_clusters,\n",
    "    max_iter=max_iterations#,\n",
    "    #precompute_distances=\"auto\",\n",
    "    #n_jobs=-1\n",
    ")\n",
    "\n",
    "labels = clustering_model.fit_predict(tf_idf_matrix)\n",
    "#print(labels)\n",
    "\n",
    "X = tf_idf_matrix.todense()"
   ]
  },
  {
   "cell_type": "code",
   "execution_count": null,
   "id": "1106e714",
   "metadata": {},
   "outputs": [],
   "source": [
    "reduced_data = PCA(n_components=pca_num_components).fit_transform(X)\n",
    "print(reduced_data)"
   ]
  },
  {
   "cell_type": "code",
   "execution_count": null,
   "id": "265e2fd4",
   "metadata": {},
   "outputs": [],
   "source": [
    "import matplotlib.patches as mpatches\n",
    "legendlist=[mpatches.Patch(color=labels_color_map[key],label=str(key))for key in labels_color_map.keys()]\n",
    "\n",
    "fig, ax = plt.subplots()\n",
    "for index, instance in enumerate(reduced_data):\n",
    "    #print(instance, index, labels[index])\n",
    "    pca_comp_1, pca_comp_2 = reduced_data[index]\n",
    "    color = labels_color_map[labels[index]]\n",
    "    ax.scatter(pca_comp_1, pca_comp_2, c=color)\n",
    "if groups<=10:\n",
    "    plt.legend(handles=legendlist)\n",
    "plt.show()"
   ]
  },
  {
   "cell_type": "code",
   "execution_count": null,
   "id": "92bef65c",
   "metadata": {},
   "outputs": [],
   "source": [
    "title_groups = np.transpose([labels,data['Title'],data['Author'],data['Index']])"
   ]
  },
  {
   "cell_type": "markdown",
   "id": "1baadbdf",
   "metadata": {},
   "source": [
    "These are the titles of the texts in each cluster. Keep in mind that each time you run the algorithm, the randomness in generating the initial means will result in different clusters."
   ]
  },
  {
   "cell_type": "code",
   "execution_count": null,
   "id": "00e76fca",
   "metadata": {},
   "outputs": [],
   "source": [
    "for i in range(len(title_groups)):\n",
    "    data.loc[i,'Group'] = title_groups[i][0]"
   ]
  },
  {
   "cell_type": "markdown",
   "id": "e6acc00f",
   "metadata": {},
   "source": [
    "This is how the groups break down by number of texts in each."
   ]
  },
  {
   "cell_type": "code",
   "execution_count": null,
   "id": "084d55a6",
   "metadata": {},
   "outputs": [],
   "source": [
    "g_counts = data['Group'].value_counts()\n",
    "ss = min(g_counts)\n",
    "#g_counts"
   ]
  },
  {
   "cell_type": "markdown",
   "id": "d40e7935",
   "metadata": {},
   "source": [
    "Here we can look at a sample of the titles in a particular group and the TF-IDF data for that group."
   ]
  },
  {
   "cell_type": "code",
   "execution_count": null,
   "id": "fb6c49a3",
   "metadata": {},
   "outputs": [],
   "source": [
    "grp=1\n",
    "data[data['Group']==grp]['Title']#.sample(ss)"
   ]
  },
  {
   "cell_type": "code",
   "execution_count": null,
   "id": "bf3743cf",
   "metadata": {},
   "outputs": [],
   "source": [
    "group_ids = list(data[data['Group']==grp]['Index'])\n",
    "group_tfidf = data[data['Index'].isin(group_ids)]['Story'].apply(lambda x: pd.value_counts(x.split(\" \"))).sum(axis = 0).reset_index()\n",
    "\n",
    "group_tfidf.columns = ['words','tf']\n",
    "group_tfidf.sort_values(by='tf', ascending=False)[:10]\n",
    "\n",
    "for i,word in enumerate(group_tfidf['words']):\n",
    "    group_tfidf.loc[i, 'idf'] = np.log(data.shape[0]/(len(data[data['Story'].str.contains(word)])))\n",
    "\n",
    "group_tfidf['tfidf'] = group_tfidf['tf'] * group_tfidf['idf']\n",
    "group_tfidf.sort_values(by='tfidf', ascending=False)[:10]"
   ]
  },
  {
   "cell_type": "code",
   "execution_count": null,
   "id": "7c8b109b",
   "metadata": {},
   "outputs": [],
   "source": [
    "text_index = 1\n",
    "pd.Series(' '.join(data[data['Index']==text_index]['Story']).split()).value_counts()[:10]"
   ]
  },
  {
   "cell_type": "markdown",
   "id": "45f70a97",
   "metadata": {},
   "source": [
    "Here we can look at all the groups along with the authors and the index for each story."
   ]
  },
  {
   "cell_type": "code",
   "execution_count": null,
   "id": "6e0c06b3",
   "metadata": {},
   "outputs": [],
   "source": [
    "for i in range(groups):\n",
    "    print(\"\")\n",
    "    print(\"#### {} ###\".format(i))\n",
    "    print(\"\")\n",
    "    for el in title_groups:\n",
    "        if el[0]==i:\n",
    "            print(\"{} --- {} --- #{}\".format(el[1],str(el[2]).strip(), el[3]))"
   ]
  },
  {
   "cell_type": "code",
   "execution_count": null,
   "id": "caa87f92",
   "metadata": {},
   "outputs": [],
   "source": []
  }
 ],
 "metadata": {
  "jupytext": {
   "formats": "ipynb"
  },
  "kernelspec": {
   "display_name": "Python 3 (ipykernel)",
   "language": "python",
   "name": "python3"
  }
 },
 "nbformat": 4,
 "nbformat_minor": 5
}
